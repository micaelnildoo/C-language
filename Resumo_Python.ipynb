{
  "nbformat": 4,
  "nbformat_minor": 0,
  "metadata": {
    "colab": {
      "provenance": [],
      "authorship_tag": "ABX9TyNmX6tgjUxtLNAgPvx8Srp3",
      "include_colab_link": true
    },
    "kernelspec": {
      "name": "python3",
      "display_name": "Python 3"
    },
    "language_info": {
      "name": "python"
    }
  },
  "cells": [
    {
      "cell_type": "markdown",
      "metadata": {
        "id": "view-in-github",
        "colab_type": "text"
      },
      "source": [
        "<a href=\"https://colab.research.google.com/github/micaelnildoo/Python_1/blob/main/Resumo_Python.ipynb\" target=\"_parent\"><img src=\"https://colab.research.google.com/assets/colab-badge.svg\" alt=\"Open In Colab\"/></a>"
      ]
    },
    {
      "cell_type": "markdown",
      "source": [
        "**ETAPAS DO ESTUDO**\n",
        "1. TEORIA\n",
        "2. RESUMIR\n",
        "3. APLICAR\n",
        "4. REVISAR"
      ],
      "metadata": {
        "id": "mvdbziabIsyj"
      }
    },
    {
      "cell_type": "markdown",
      "source": [
        "# **Resumo de Python**\n",
        "Por Micael Nildo\n",
        "\n",
        "> resumo curto do que você precisa saber para entender PYTHON\n",
        "\n"
      ],
      "metadata": {
        "id": "e4sbRdnWI82p"
      }
    },
    {
      "cell_type": "markdown",
      "source": [
        "Python é uma Linguagem de programação de alto nível\n",
        "\n",
        "entrada = dados que serão manipulados\n",
        "\n",
        "> entrada = dados que serão manipulados\n",
        "\n",
        "> saída = resultado da manipulação\n",
        "\n",
        "\n",
        "\n",
        "\n",
        "\n",
        "\n"
      ],
      "metadata": {
        "id": "Pu5ffHAkJbCf"
      }
    },
    {
      "cell_type": "markdown",
      "source": [
        "## 1. Variáveis"
      ],
      "metadata": {
        "id": "Q3VmgFH1LpqX"
      }
    },
    {
      "cell_type": "markdown",
      "source": [
        "*a **entrada**, por padrão, é lida e armazenada como **string** (<class 'str'>)*\n",
        "\n",
        "string = conjunto de caracteres"
      ],
      "metadata": {
        "id": "SRnsVL7lM0bq"
      }
    },
    {
      "cell_type": "code",
      "source": [
        "# input é usada para entrada de dados\n",
        "a = input\n",
        "#int é usado para inserir dados inteiros, como: 1, 2, 3...\n",
        "a = int(input())\n",
        "print(a) #mostra o valor digitado\n",
        "print(type(a)) #mostra na tela o tipo da variável"
      ],
      "metadata": {
        "colab": {
          "base_uri": "https://localhost:8080/"
        },
        "id": "IdlNINUxJaje",
        "outputId": "e2cc9dc3-998f-4163-c96a-4feb89027d9c"
      },
      "execution_count": null,
      "outputs": [
        {
          "output_type": "stream",
          "name": "stdout",
          "text": [
            "4\n",
            "4\n",
            "<class 'int'>\n"
          ]
        }
      ]
    },
    {
      "cell_type": "markdown",
      "source": [
        "Questão: Faça um programa de computador que mostre na tela o nome e a idade da pessoa."
      ],
      "metadata": {
        "id": "Z1exURek5cxy"
      }
    },
    {
      "cell_type": "code",
      "source": [
        "nome = input('Digite seu Nome: ')\n",
        "idade = int(input('Digite sua idade: '))\n",
        "\n",
        "print('meu nome é %s e tenho %d anos' % (nome, idade)) #inserir % como separador e as variáveis entre parenteses"
      ],
      "metadata": {
        "colab": {
          "base_uri": "https://localhost:8080/"
        },
        "id": "y1M9wd60NSdZ",
        "outputId": "6f2e37d3-2844-47cc-821c-080ebf46570c"
      },
      "execution_count": null,
      "outputs": [
        {
          "output_type": "stream",
          "name": "stdout",
          "text": [
            "Digite seu Nome: Micael Nildo\n",
            "Digite sua idade: 19\n",
            "meu nome é Micael Nildo e tenho 19 anos\n"
          ]
        }
      ]
    },
    {
      "cell_type": "code",
      "source": [
        "numero = int(input('Digite um número inteiro: '))\n",
        "numero_float = 20.32\n",
        "\n",
        "# %d = váriavel inteira numero\n",
        "print('valor da variável número é: %d' % numero)\n",
        "\n",
        "# %f = varíavel decimal numero_float\n",
        "# %.2f = exibir a variável com 2 casas decimais (2.53)\n",
        "print('valor da variável número_float: %.2f' % numero_float) # %f = varíavel decimal numero_float\n",
        "\n",
        "nome = 'Micael Nildo'\n",
        "idade = 19\n",
        "\n",
        "# %s = conjunto de caracteres\n",
        "# %d = inteiros\n",
        "\n",
        "print('meu nome é %s e tenho %d anos' % (nome, idade)) # inserir % como separador e as variáveis entre parenteses"
      ],
      "metadata": {
        "colab": {
          "base_uri": "https://localhost:8080/"
        },
        "id": "g9vwdwLcaZIU",
        "outputId": "f553cf78-f028-4529-93a0-4ce5ddee4c3e"
      },
      "execution_count": null,
      "outputs": [
        {
          "output_type": "stream",
          "name": "stdout",
          "text": [
            "Digite um número inteiro: 12\n",
            "valor da variável número é: 12\n",
            "valor da variável número_float: 20.32\n",
            "meu nome é Micael Nildo e tenho 19 anos\n"
          ]
        }
      ]
    },
    {
      "cell_type": "markdown",
      "source": [
        "## 2. Operadores Aritméticos\n",
        "\n",
        "\n",
        "> Ordem de Prioridade:\n",
        " 1. Parentenses\n",
        " 2. exponenciação\n",
        " 3. multiplicação e divisão\n",
        " 4. adição e subtração\n",
        " 5. calcular da esquerda para a direita\n",
        "\n",
        "\n",
        "\n",
        "\n",
        "\n",
        "\n"
      ],
      "metadata": {
        "id": "zj1wrQBVNa_Z"
      }
    },
    {
      "cell_type": "code",
      "source": [
        "#ADIÇÃO\n",
        "1+2\n",
        "\n"
      ],
      "metadata": {
        "colab": {
          "base_uri": "https://localhost:8080/"
        },
        "id": "aufWjoG2Wq2K",
        "outputId": "aec1d3fc-b597-4b90-e956-0ebe21499e65"
      },
      "execution_count": null,
      "outputs": [
        {
          "output_type": "execute_result",
          "data": {
            "text/plain": [
              "3"
            ]
          },
          "metadata": {},
          "execution_count": 15
        }
      ]
    },
    {
      "cell_type": "code",
      "source": [
        "#SUBTRAÇÃO\n",
        "4-2"
      ],
      "metadata": {
        "colab": {
          "base_uri": "https://localhost:8080/"
        },
        "id": "0Vj6L5-rW3BP",
        "outputId": "91085f14-4921-442f-a5dd-717a259a0577"
      },
      "execution_count": null,
      "outputs": [
        {
          "output_type": "execute_result",
          "data": {
            "text/plain": [
              "2"
            ]
          },
          "metadata": {},
          "execution_count": 28
        }
      ]
    },
    {
      "cell_type": "code",
      "source": [
        "#MULTIPLICAÇÃO\n",
        "3*5*2"
      ],
      "metadata": {
        "colab": {
          "base_uri": "https://localhost:8080/"
        },
        "id": "6GdHjo8BW6fF",
        "outputId": "1db74d63-1545-4c3f-fd56-d989fce4fcc6"
      },
      "execution_count": null,
      "outputs": [
        {
          "output_type": "execute_result",
          "data": {
            "text/plain": [
              "30"
            ]
          },
          "metadata": {},
          "execution_count": 16
        }
      ]
    },
    {
      "cell_type": "code",
      "source": [
        "#EXPONENCIAÇÃO\n",
        "2**3 #2 elevado a 3"
      ],
      "metadata": {
        "colab": {
          "base_uri": "https://localhost:8080/"
        },
        "id": "bajjTEH1XAw-",
        "outputId": "ae789d1c-fb69-4597-b507-1c874af116d4"
      },
      "execution_count": null,
      "outputs": [
        {
          "output_type": "execute_result",
          "data": {
            "text/plain": [
              "8"
            ]
          },
          "metadata": {},
          "execution_count": 30
        }
      ]
    },
    {
      "cell_type": "code",
      "source": [
        "#DIVISÃO\n",
        "10/2.5"
      ],
      "metadata": {
        "colab": {
          "base_uri": "https://localhost:8080/"
        },
        "id": "pgtKt_82XU_S",
        "outputId": "e8b51316-ffff-4d20-a98b-d27060a5e45d"
      },
      "execution_count": null,
      "outputs": [
        {
          "output_type": "execute_result",
          "data": {
            "text/plain": [
              "4.0"
            ]
          },
          "metadata": {},
          "execution_count": 32
        }
      ]
    },
    {
      "cell_type": "code",
      "source": [
        "import math #importar a biblioteca para acessar as funções matemáticas\n",
        "\n",
        "a = math.sqrt(4) #raiz quadrada\n",
        "print(a)"
      ],
      "metadata": {
        "colab": {
          "base_uri": "https://localhost:8080/"
        },
        "id": "4yrQYIPFfG70",
        "outputId": "34921e15-5bb5-4110-e3b9-b3e2c237b98f"
      },
      "execution_count": null,
      "outputs": [
        {
          "output_type": "stream",
          "name": "stdout",
          "text": [
            "2.0\n"
          ]
        }
      ]
    },
    {
      "cell_type": "code",
      "source": [
        "from math import * #não precisa colocar o math. antes das funções\n",
        "a = sqrt(16)\n",
        "print(a)"
      ],
      "metadata": {
        "colab": {
          "base_uri": "https://localhost:8080/"
        },
        "id": "-YwPVqYuguO0",
        "outputId": "1ca6ced3-0a29-4672-c233-aa7ab1d5507d"
      },
      "execution_count": null,
      "outputs": [
        {
          "output_type": "stream",
          "name": "stdout",
          "text": [
            "4.0\n"
          ]
        }
      ]
    },
    {
      "cell_type": "markdown",
      "source": [
        "### Divisão de Piso e Resto"
      ],
      "metadata": {
        "id": "AiEwJ1jfOwDz"
      }
    },
    {
      "cell_type": "markdown",
      "source": [
        "**%:** divide os valores e o resultado é o resto da divisão\n",
        "\n",
        "**//:** divisão de piso que oferece um inteiro como saída e descarta o resto"
      ],
      "metadata": {
        "id": "2D_nGTrfPADH"
      }
    },
    {
      "cell_type": "code",
      "source": [
        "matricula = int(input('Digite seu número de matrícula: '))\n",
        "def geraValor2 (entrada): return entrada%10000//10\n",
        "a = geraValor2(matricula);\n",
        "print(a)"
      ],
      "metadata": {
        "colab": {
          "base_uri": "https://localhost:8080/"
        },
        "id": "znBQhx_WNmGy",
        "outputId": "006e7f18-9726-4510-8c9c-46b8504aee21"
      },
      "execution_count": null,
      "outputs": [
        {
          "output_type": "stream",
          "name": "stdout",
          "text": [
            "Digite seu número de matrícula: 20203166\n",
            "316\n"
          ]
        }
      ]
    },
    {
      "cell_type": "code",
      "source": [
        "982321124%1000//10"
      ],
      "metadata": {
        "colab": {
          "base_uri": "https://localhost:8080/"
        },
        "id": "_ZmSClq8UVCw",
        "outputId": "27fbbb15-1f15-4fa8-ae29-a35eab40af8f"
      },
      "execution_count": null,
      "outputs": [
        {
          "output_type": "execute_result",
          "data": {
            "text/plain": [
              "12"
            ]
          },
          "metadata": {},
          "execution_count": 37
        }
      ]
    },
    {
      "cell_type": "code",
      "source": [
        "982321124%10"
      ],
      "metadata": {
        "colab": {
          "base_uri": "https://localhost:8080/"
        },
        "id": "hwxBjjvaTtvc",
        "outputId": "0fc30932-9572-45d3-82a3-caf627b0e7bb"
      },
      "execution_count": null,
      "outputs": [
        {
          "output_type": "execute_result",
          "data": {
            "text/plain": [
              "4"
            ]
          },
          "metadata": {},
          "execution_count": 38
        }
      ]
    },
    {
      "cell_type": "code",
      "source": [
        "982321124//10000000"
      ],
      "metadata": {
        "colab": {
          "base_uri": "https://localhost:8080/"
        },
        "id": "dW50zF2HTcS9",
        "outputId": "86dd5b46-ba3b-4304-88d8-6fc0b2422f0e"
      },
      "execution_count": null,
      "outputs": [
        {
          "output_type": "execute_result",
          "data": {
            "text/plain": [
              "98"
            ]
          },
          "metadata": {},
          "execution_count": 39
        }
      ]
    },
    {
      "cell_type": "markdown",
      "source": [
        "## 3. Estruturas de Decisão\n",
        "\n",
        "\n"
      ],
      "metadata": {
        "id": "QrDbbtynLvse"
      }
    },
    {
      "cell_type": "code",
      "source": [
        "media = int(input())\n",
        "\n",
        "if (media>=7):           # se a media é maior ou igual a 7, mostra na tela a mensagem aprovado\n",
        "  print('aprovado')\n",
        "elif (media>=4):         # senão se a media é maior ou igual a 4, exibe recuperação\n",
        "  print('recuperação')\n",
        "else:                    # caso contrário, imprime reprovado\n",
        "  print('reprovado')"
      ],
      "metadata": {
        "colab": {
          "base_uri": "https://localhost:8080/"
        },
        "id": "pxoMWd2UL9ja",
        "outputId": "9b098514-9da0-486e-9ed5-602e51cda898"
      },
      "execution_count": null,
      "outputs": [
        {
          "output_type": "stream",
          "name": "stdout",
          "text": [
            "4\n",
            "recuperação\n"
          ]
        }
      ]
    },
    {
      "cell_type": "markdown",
      "source": [
        "## 4. Estruturas de Repetição\n"
      ],
      "metadata": {
        "id": "Ykxi17pZL1i0"
      }
    },
    {
      "cell_type": "code",
      "source": [
        "#contagem começa no zero\n",
        "for i in range(4):\n",
        "  print(i)"
      ],
      "metadata": {
        "colab": {
          "base_uri": "https://localhost:8080/"
        },
        "id": "-AopGUrUiXyp",
        "outputId": "f78e9702-4c28-40f7-b3d1-d83335bb9702"
      },
      "execution_count": null,
      "outputs": [
        {
          "output_type": "stream",
          "name": "stdout",
          "text": [
            "0\n",
            "1\n",
            "2\n",
            "3\n"
          ]
        }
      ]
    },
    {
      "cell_type": "code",
      "source": [
        "#para i no intervalo\n",
        "for i in range(2, 10, 2): #(inicio, fim, passo de 2 em 2)\n",
        "  print(i)"
      ],
      "metadata": {
        "colab": {
          "base_uri": "https://localhost:8080/"
        },
        "id": "q7f7iumQU0SD",
        "outputId": "3020d1c3-4670-4f8e-911e-2a85eadc3130"
      },
      "execution_count": null,
      "outputs": [
        {
          "output_type": "stream",
          "name": "stdout",
          "text": [
            "2\n",
            "4\n",
            "6\n",
            "8\n"
          ]
        }
      ]
    },
    {
      "cell_type": "code",
      "source": [
        "#Repetir o código enquanto a condição for verdadeira\n",
        "num = 0\n",
        "while (num != -1):\n",
        "  print(num)\n",
        "  num = int (input('Digite um número inteiro: '))\n"
      ],
      "metadata": {
        "colab": {
          "base_uri": "https://localhost:8080/"
        },
        "id": "IWmNgpnYinMZ",
        "outputId": "41e307f3-ce1d-4e26-e286-28aa8cf42bbb"
      },
      "execution_count": null,
      "outputs": [
        {
          "name": "stdout",
          "output_type": "stream",
          "text": [
            "0\n",
            "Digite um número inteiro: 2\n",
            "2\n",
            "Digite um número inteiro: 3\n",
            "3\n",
            "Digite um número inteiro: -1\n"
          ]
        }
      ]
    },
    {
      "cell_type": "code",
      "source": [],
      "metadata": {
        "id": "Ti8yr48Sk7dx"
      },
      "execution_count": null,
      "outputs": []
    },
    {
      "cell_type": "markdown",
      "source": [
        "## 5. Listas"
      ],
      "metadata": {
        "id": "ExFA_Wn2L6eg"
      }
    },
    {
      "cell_type": "markdown",
      "source": [
        "lista é uma **estrutura de itens** organizados de forma **linear**.\n",
        "\n",
        "cada **item** pode ser **acessado a partir do índice**.\n",
        "\n",
        "**indice** = **posição** do item na coleção (iniciando em zero)"
      ],
      "metadata": {
        "id": "JXdniV1nkbM1"
      }
    },
    {
      "cell_type": "code",
      "source": [
        "listas_1 = [] #lista vazia\n",
        "lista_2 = [1, 2, 3]\n",
        "lista_3 = ['Micael', 24, 3.67] #3 tipos de variáveis\n",
        "lista_4 = [['Micael', 19], ['Nildo', 22]] #lista dentro de lista\n",
        "\n",
        "print(lista_4)\n",
        "print(lista_2)"
      ],
      "metadata": {
        "colab": {
          "base_uri": "https://localhost:8080/"
        },
        "id": "-9JU4gzklPXY",
        "outputId": "4fb64f70-65f5-485c-ea4a-edb73a0769ee"
      },
      "execution_count": null,
      "outputs": [
        {
          "output_type": "stream",
          "name": "stdout",
          "text": [
            "[['Micael', 19], ['Nildo', 22]]\n",
            "[1, 2, 3]\n"
          ]
        }
      ]
    },
    {
      "cell_type": "markdown",
      "source": [
        "operações com listas"
      ],
      "metadata": {
        "id": "ncBc5Te4mUXv"
      }
    },
    {
      "cell_type": "code",
      "source": [],
      "metadata": {
        "id": "3NGxkSWpmVtn"
      },
      "execution_count": null,
      "outputs": []
    },
    {
      "cell_type": "markdown",
      "source": [
        "## 6. Funções"
      ],
      "metadata": {
        "id": "D0jVsC_1jjld"
      }
    },
    {
      "cell_type": "markdown",
      "source": [
        "## 7. Gráficos"
      ],
      "metadata": {
        "id": "bhw0TrTij2dL"
      }
    },
    {
      "cell_type": "markdown",
      "source": [
        "referencias:\n",
        "\n",
        "https://www.youtube.com/watch?v=Z4bUwTLjGTY&t=35s\n",
        "\n",
        "https://www.youtube.com/watch?v=aAR5UhJ5hzg&list=PLg3ZPsW_sghTw40eEdgUhnMO-uthjcA3g&index=4\n",
        "\n",
        "https://www.devmedia.com.br/operadores-no-python/40693"
      ],
      "metadata": {
        "id": "YELjLZOPPD7b"
      }
    }
  ]
}